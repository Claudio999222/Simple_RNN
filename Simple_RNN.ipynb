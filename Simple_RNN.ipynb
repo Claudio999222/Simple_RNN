{
 "cells": [
  {
   "cell_type": "code",
   "execution_count": null,
   "id": "d86e4671-1f8a-4da8-92d5-44e0a7fc9927",
   "metadata": {},
   "outputs": [],
   "source": [
    "import pandas as pd \n",
    "from sklearn.preprocessing import StandardScaler \n",
    "from sklearn.metrics import accuracy_score\n",
    "import numpy as np\n",
    "import tensorflow as tf \n",
    "import matplotlib.pyplot as plt \n",
    "from tensorflow.keras.layers import SimpleRNN"
   ]
  },
  {
   "cell_type": "markdown",
   "id": "89760594-9b41-4a58-8bc7-6744f60714b9",
   "metadata": {},
   "source": [
    "#### Importazione del dataset "
   ]
  },
  {
   "cell_type": "code",
   "execution_count": 3,
   "id": "aeb29277-c70c-4379-82e6-1c2d6f603127",
   "metadata": {},
   "outputs": [],
   "source": [
    "data = pd.read_csv('data/datatest.txt')\n",
    "data2 = pd.read_csv('data/datatraining.txt')\n",
    "data3 = pd.read_csv('data/datatest2.txt')"
   ]
  },
  {
   "cell_type": "markdown",
   "id": "6cd47158-cd43-412e-bd9b-8bc6c50c4d93",
   "metadata": {},
   "source": [
    "#### Modifica data in formato DateTime e creazione di colonne che indicano lo spazio temporale "
   ]
  },
  {
   "cell_type": "code",
   "execution_count": 4,
   "id": "e7004b4d-d1b6-4172-9666-9cbb89bd9e04",
   "metadata": {},
   "outputs": [
    {
     "name": "stdout",
     "output_type": "stream",
     "text": [
      "2015-02-02 14:19:00 2015-02-04 10:43:00\n",
      "2015-02-04 17:51:00 2015-02-10 09:33:00\n",
      "2015-02-11 14:48:00 2015-02-18 09:19:00\n"
     ]
    }
   ],
   "source": [
    "print(data.iloc[0].date, data.iloc[-1].date)\n",
    "print(data2.iloc[0].date, data2.iloc[-1].date)\n",
    "print(data3.iloc[0].date, data3.iloc[-1].date)"
   ]
  },
  {
   "cell_type": "code",
   "execution_count": 5,
   "id": "a491de18-af79-4ceb-88cd-b1f0d35d8bc5",
   "metadata": {},
   "outputs": [
    {
     "data": {
      "text/html": [
       "<div>\n",
       "<style scoped>\n",
       "    .dataframe tbody tr th:only-of-type {\n",
       "        vertical-align: middle;\n",
       "    }\n",
       "\n",
       "    .dataframe tbody tr th {\n",
       "        vertical-align: top;\n",
       "    }\n",
       "\n",
       "    .dataframe thead th {\n",
       "        text-align: right;\n",
       "    }\n",
       "</style>\n",
       "<table border=\"1\" class=\"dataframe\">\n",
       "  <thead>\n",
       "    <tr style=\"text-align: right;\">\n",
       "      <th></th>\n",
       "      <th>Temperature</th>\n",
       "      <th>Humidity</th>\n",
       "      <th>Light</th>\n",
       "      <th>CO2</th>\n",
       "      <th>HumidityRatio</th>\n",
       "      <th>Notte</th>\n",
       "      <th>Mattina</th>\n",
       "      <th>Mezzogiorno</th>\n",
       "      <th>Pomeriggio</th>\n",
       "      <th>Sera</th>\n",
       "      <th>Occupato</th>\n",
       "    </tr>\n",
       "    <tr>\n",
       "      <th>date</th>\n",
       "      <th></th>\n",
       "      <th></th>\n",
       "      <th></th>\n",
       "      <th></th>\n",
       "      <th></th>\n",
       "      <th></th>\n",
       "      <th></th>\n",
       "      <th></th>\n",
       "      <th></th>\n",
       "      <th></th>\n",
       "      <th></th>\n",
       "    </tr>\n",
       "  </thead>\n",
       "  <tbody>\n",
       "    <tr>\n",
       "      <th>2015-02-02 14:19:00</th>\n",
       "      <td>23.7000</td>\n",
       "      <td>26.272</td>\n",
       "      <td>585.200000</td>\n",
       "      <td>749.200000</td>\n",
       "      <td>0.004764</td>\n",
       "      <td>0.0</td>\n",
       "      <td>0.0</td>\n",
       "      <td>1.0</td>\n",
       "      <td>0.0</td>\n",
       "      <td>0.0</td>\n",
       "      <td>1</td>\n",
       "    </tr>\n",
       "    <tr>\n",
       "      <th>2015-02-02 14:19:59</th>\n",
       "      <td>23.7180</td>\n",
       "      <td>26.290</td>\n",
       "      <td>578.400000</td>\n",
       "      <td>760.400000</td>\n",
       "      <td>0.004773</td>\n",
       "      <td>0.0</td>\n",
       "      <td>0.0</td>\n",
       "      <td>1.0</td>\n",
       "      <td>0.0</td>\n",
       "      <td>0.0</td>\n",
       "      <td>1</td>\n",
       "    </tr>\n",
       "    <tr>\n",
       "      <th>2015-02-02 14:21:00</th>\n",
       "      <td>23.7300</td>\n",
       "      <td>26.230</td>\n",
       "      <td>572.666667</td>\n",
       "      <td>769.666667</td>\n",
       "      <td>0.004765</td>\n",
       "      <td>0.0</td>\n",
       "      <td>0.0</td>\n",
       "      <td>1.0</td>\n",
       "      <td>0.0</td>\n",
       "      <td>0.0</td>\n",
       "      <td>1</td>\n",
       "    </tr>\n",
       "    <tr>\n",
       "      <th>2015-02-02 14:22:00</th>\n",
       "      <td>23.7225</td>\n",
       "      <td>26.125</td>\n",
       "      <td>493.750000</td>\n",
       "      <td>774.750000</td>\n",
       "      <td>0.004744</td>\n",
       "      <td>0.0</td>\n",
       "      <td>0.0</td>\n",
       "      <td>1.0</td>\n",
       "      <td>0.0</td>\n",
       "      <td>0.0</td>\n",
       "      <td>1</td>\n",
       "    </tr>\n",
       "    <tr>\n",
       "      <th>2015-02-02 14:23:00</th>\n",
       "      <td>23.7540</td>\n",
       "      <td>26.200</td>\n",
       "      <td>488.600000</td>\n",
       "      <td>779.000000</td>\n",
       "      <td>0.004767</td>\n",
       "      <td>0.0</td>\n",
       "      <td>0.0</td>\n",
       "      <td>1.0</td>\n",
       "      <td>0.0</td>\n",
       "      <td>0.0</td>\n",
       "      <td>1</td>\n",
       "    </tr>\n",
       "  </tbody>\n",
       "</table>\n",
       "</div>"
      ],
      "text/plain": [
       "                     Temperature  Humidity       Light         CO2  \\\n",
       "date                                                                 \n",
       "2015-02-02 14:19:00      23.7000    26.272  585.200000  749.200000   \n",
       "2015-02-02 14:19:59      23.7180    26.290  578.400000  760.400000   \n",
       "2015-02-02 14:21:00      23.7300    26.230  572.666667  769.666667   \n",
       "2015-02-02 14:22:00      23.7225    26.125  493.750000  774.750000   \n",
       "2015-02-02 14:23:00      23.7540    26.200  488.600000  779.000000   \n",
       "\n",
       "                     HumidityRatio  Notte  Mattina  Mezzogiorno  Pomeriggio  \\\n",
       "date                                                                          \n",
       "2015-02-02 14:19:00       0.004764    0.0      0.0          1.0         0.0   \n",
       "2015-02-02 14:19:59       0.004773    0.0      0.0          1.0         0.0   \n",
       "2015-02-02 14:21:00       0.004765    0.0      0.0          1.0         0.0   \n",
       "2015-02-02 14:22:00       0.004744    0.0      0.0          1.0         0.0   \n",
       "2015-02-02 14:23:00       0.004767    0.0      0.0          1.0         0.0   \n",
       "\n",
       "                     Sera  Occupato  \n",
       "date                                 \n",
       "2015-02-02 14:19:00   0.0         1  \n",
       "2015-02-02 14:19:59   0.0         1  \n",
       "2015-02-02 14:21:00   0.0         1  \n",
       "2015-02-02 14:22:00   0.0         1  \n",
       "2015-02-02 14:23:00   0.0         1  "
      ]
     },
     "execution_count": 5,
     "metadata": {},
     "output_type": "execute_result"
    }
   ],
   "source": [
    "data_all = pd.concat([data, data2, data3])\n",
    "data_all['date'] = pd.to_datetime((data_all['date']))\n",
    "data_all['Notte'] = 0.\n",
    "data_all['Mattina'] = 0.\n",
    "data_all['Mezzogiorno'] = 0.\n",
    "data_all['Pomeriggio'] = 0.\n",
    "data_all['Sera'] = 0.\n",
    "\n",
    "data_all.loc[(data_all['date'].dt.hour < 8) | (data_all['date'].dt.hour > 21), 'Notte'] = 1. \n",
    "data_all.loc[(data_all['date'].dt.hour <= 12) & (data_all['date'].dt.hour >= 8), 'Mattina'] = 1.\n",
    "data_all.loc[(data_all['date'].dt.hour > 12) & (data_all['date'].dt.hour <= 15), 'Mezzogiorno'] = 1.\n",
    "data_all.loc[(data_all['date'].dt.hour > 15) & (data_all['date'].dt.hour <= 18), 'Pomeriggio'] = 1.\n",
    "data_all.loc[(data_all['date'].dt.hour > 18) & (data_all['date'].dt.hour <= 21), 'Sera'] = 1.\n",
    "\n",
    "data_all.drop_duplicates(inplace=True)\n",
    "\n",
    "data_all['Occupato'] = data_all['Occupancy']\n",
    "del data_all['Occupancy']\n",
    "\n",
    "data_all.set_index('date', inplace = True)\n",
    "data_all.head()"
   ]
  },
  {
   "cell_type": "code",
   "execution_count": 6,
   "id": "415e5fac-84ed-425e-a1c8-2a33fec461f9",
   "metadata": {},
   "outputs": [],
   "source": [
    "dataset = data_all.values"
   ]
  },
  {
   "cell_type": "markdown",
   "id": "8de7481f-4721-441e-8ad4-8d97bcd25bcd",
   "metadata": {},
   "source": [
    "#### Creazione dei dati di train e di test"
   ]
  },
  {
   "cell_type": "code",
   "execution_count": 7,
   "id": "3e9c91bc-3571-4f9c-8ef1-1967e86606f3",
   "metadata": {},
   "outputs": [],
   "source": [
    "split_point = int(len(dataset) * 0.95)\n",
    "\n",
    "x_train = dataset[:split_point, :-1]\n",
    "y_train = dataset[:split_point,-1]\n",
    "\n",
    "x_test = dataset[split_point:,:-1]\n",
    "y_test = dataset[split_point:,-1]"
   ]
  },
  {
   "cell_type": "markdown",
   "id": "b011bea2-61fa-45b3-b89f-26d12f833649",
   "metadata": {},
   "source": [
    "#### Normalizzazione dei dati"
   ]
  },
  {
   "cell_type": "code",
   "execution_count": 8,
   "id": "8c46e320-e891-4c2d-9fdb-a55f5c64e1ec",
   "metadata": {},
   "outputs": [],
   "source": [
    "scaler = StandardScaler()\n",
    "scaler.fit(x_train)\n",
    "\n",
    "x_train_std = scaler.transform(x_train)\n",
    "x_test_std = scaler.transform(x_test)"
   ]
  },
  {
   "cell_type": "markdown",
   "id": "dc4bdaf1-d5b2-415c-8cd7-5a8a60118c08",
   "metadata": {},
   "source": [
    "#### Funzione sull accertamento del corretto funzionamento delle serie temporali"
   ]
  },
  {
   "cell_type": "code",
   "execution_count": 9,
   "id": "6d39abbf-7cf7-4bba-b0cb-4dcd43d58939",
   "metadata": {},
   "outputs": [],
   "source": [
    "def get_time_series(features, labels, steps_back):\n",
    "    assert len(features) == len(labels)\n",
    "    assert steps_back > 0\n",
    "    ts_features = []\n",
    "    ts_labels = []\n",
    "    for i in range( steps_back, len(features) +1):\n",
    "        ts_features.append(features[i - steps_back:i])\n",
    "        ts_labels.append(labels[i - 1])\n",
    "    return np.asarray(ts_features), np.asarray(ts_labels)\n",
    "\n",
    "steps_back = 60 \n",
    "x_train_ts, y_train_ts = get_time_series(x_train_std, y_train, steps_back)\n",
    "x_test_ts, y_test_ts = get_time_series(x_test_std, y_test, steps_back) "
   ]
  },
  {
   "cell_type": "code",
   "execution_count": 10,
   "id": "d0892d20-2785-4f81-b5bd-2fdd6bd8759d",
   "metadata": {},
   "outputs": [],
   "source": [
    "assert np.all(x_train_ts[0][0] == x_train_std[0])\n",
    "assert y_train_ts[0] == y_train[steps_back]\n",
    "\n",
    "assert np.all(x_train_ts[42][0] == x_train_std[42])\n",
    "assert y_train_ts[42] == y_train[42 + steps_back]\n",
    "\n",
    "assert np.all(x_test_ts[0][0] == x_test_std[0])\n",
    "assert y_test_ts[0] == y_test[steps_back]\n",
    "\n",
    "assert np.all(x_test_ts[42][0] == x_test_std[42])\n",
    "assert y_test_ts[42] == y_test[42 + steps_back]"
   ]
  },
  {
   "cell_type": "markdown",
   "id": "3d79e064-8b38-4329-8528-e03210986dd7",
   "metadata": {},
   "source": [
    "#### Creazione del architettura del modello e del modello"
   ]
  },
  {
   "cell_type": "code",
   "execution_count": 13,
   "id": "8ccd070c-dd62-4f4d-ab78-c2b7f6a314c4",
   "metadata": {},
   "outputs": [
    {
     "name": "stdout",
     "output_type": "stream",
     "text": [
      "Model: \"model\"\n",
      "_________________________________________________________________\n",
      " Layer (type)                Output Shape              Param #   \n",
      "=================================================================\n",
      " input_2 (InputLayer)        [(None, 60, 10)]          0         \n",
      "                                                                 \n",
      " simple_rnn (SimpleRNN)      (None, 4)                 60        \n",
      "                                                                 \n",
      " dense (Dense)               (None, 1)                 5         \n",
      "                                                                 \n",
      "=================================================================\n",
      "Total params: 65 (260.00 Byte)\n",
      "Trainable params: 65 (260.00 Byte)\n",
      "Non-trainable params: 0 (0.00 Byte)\n",
      "_________________________________________________________________\n"
     ]
    }
   ],
   "source": [
    "input = tf.keras.layers.Input(shape = x_train_ts.shape[1:])\n",
    "\n",
    "rnn = tf.keras.layers.SimpleRNN(units=4, dropout=0.5)(input)\n",
    "output = tf.keras.layers.Dense(1, activation = 'sigmoid')(rnn)\n",
    "\n",
    "model = tf.keras.models.Model(\n",
    "    inputs=input,\n",
    "    outputs=output,\n",
    ")\n",
    "\n",
    "model.compile(\n",
    "    optimizer= tf.keras.optimizers.Adam(learning_rate=0.003),\n",
    "    loss = tf.keras.losses.MeanSquaredError(),\n",
    "    metrics = tf.keras.metrics.BinaryAccuracy()\n",
    ")\n",
    "\n",
    "model.summary()\n"
   ]
  },
  {
   "cell_type": "markdown",
   "id": "52254ea7-da4a-44f6-a05f-ef331528eb50",
   "metadata": {},
   "source": [
    "#### Addestramento dell modello "
   ]
  },
  {
   "cell_type": "code",
   "execution_count": 15,
   "id": "edafc54f-dc45-4d90-85d0-9993ec2aae0a",
   "metadata": {},
   "outputs": [
    {
     "name": "stdout",
     "output_type": "stream",
     "text": [
      "Epoch 1/5\n",
      "77/77 - 1s - loss: 0.0172 - binary_accuracy: 0.9807 - val_loss: 0.0093 - val_binary_accuracy: 0.9897 - 547ms/epoch - 7ms/step\n",
      "Epoch 2/5\n",
      "77/77 - 1s - loss: 0.0186 - binary_accuracy: 0.9792 - val_loss: 0.0123 - val_binary_accuracy: 0.9856 - 514ms/epoch - 7ms/step\n",
      "Epoch 3/5\n",
      "77/77 - 0s - loss: 0.0171 - binary_accuracy: 0.9806 - val_loss: 0.0162 - val_binary_accuracy: 0.9804 - 487ms/epoch - 6ms/step\n",
      "Epoch 4/5\n",
      "77/77 - 0s - loss: 0.0187 - binary_accuracy: 0.9786 - val_loss: 0.0113 - val_binary_accuracy: 0.9856 - 481ms/epoch - 6ms/step\n",
      "Epoch 5/5\n",
      "77/77 - 0s - loss: 0.0182 - binary_accuracy: 0.9795 - val_loss: 0.0109 - val_binary_accuracy: 0.9876 - 487ms/epoch - 6ms/step\n"
     ]
    }
   ],
   "source": [
    "history = model.fit(\n",
    "    x_train_ts,\n",
    "    y_train_ts,\n",
    "    batch_size=256,\n",
    "    epochs=5,\n",
    "    validation_data=(\n",
    "        x_test_ts,\n",
    "        y_test_ts\n",
    "    ),\n",
    "    verbose=2\n",
    ")"
   ]
  },
  {
   "cell_type": "markdown",
   "id": "cf8dbe31-5a65-4291-9e0e-5c0399e8456c",
   "metadata": {},
   "source": [
    "#### Illustrazione dei risultati dell addestramento"
   ]
  },
  {
   "cell_type": "code",
   "execution_count": 17,
   "id": "0a78b7aa-eb65-4483-8d69-19ecfff2c44e",
   "metadata": {},
   "outputs": [
    {
     "data": {
      "image/png": "[encoded data removed]",
      "text/plain": [
       "<Figure size 800x300 with 1 Axes>"
      ]
     },
     "metadata": {},
     "output_type": "display_data"
    },
    {
     "data": {
      "image/png": "[encoded data removed]",
      "text/plain": [
       "<Figure size 800x300 with 1 Axes>"
      ]
     },
     "metadata": {},
     "output_type": "display_data"
    }
   ],
   "source": [
    "plt.figure(figsize=(8,3))\n",
    "plt.title('Loss')\n",
    "plt.plot(history.history['loss'], label = 'loss')\n",
    "plt.plot(history.history['val_loss'], label='validation loss')\n",
    "plt.legend()\n",
    "plt.show()\n",
    "\n",
    "plt.figure(figsize=(8, 3))\n",
    "plt.title('Accuracy')\n",
    "plt.plot(history.history['binary_accuracy'], label='accuracy')\n",
    "plt.plot(history.history['val_binary_accuracy'], label='validation accuracy')\n",
    "plt.legend()\n",
    "plt.show()"
   ]
  },
  {
   "cell_type": "code",
   "execution_count": null,
   "id": "b5df3d1a-8110-4d08-b314-e7f846946e19",
   "metadata": {},
   "outputs": [],
   "source": []
  }
 ],
 "metadata": {
  "kernelspec": {
   "display_name": "Python 3 (ipykernel)",
   "language": "python",
   "name": "python3"
  },
  "language_info": {
   "codemirror_mode": {
    "name": "ipython",
    "version": 3
   },
   "file_extension": ".py",
   "mimetype": "text/x-python",
   "name": "python",
   "nbconvert_exporter": "python",
   "pygments_lexer": "ipython3",
   "version": "3.8.0"
  }
 },
 "nbformat": 4,
 "nbformat_minor": 5
}
